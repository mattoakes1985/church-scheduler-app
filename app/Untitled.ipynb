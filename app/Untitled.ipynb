{
 "cells": [
  {
   "cell_type": "code",
   "execution_count": 4,
   "id": "73e4670e-e130-4067-b5a9-29ea72e68867",
   "metadata": {},
   "outputs": [
    {
     "name": "stdout",
     "output_type": "stream",
     "text": [
      "Collecting flask-migrate\n",
      "  Using cached Flask_Migrate-4.1.0-py3-none-any.whl.metadata (3.3 kB)\n",
      "Requirement already satisfied: Flask>=0.9 in /Library/Frameworks/Python.framework/Versions/3.13/lib/python3.13/site-packages (from flask-migrate) (3.0.3)\n",
      "Requirement already satisfied: Flask-SQLAlchemy>=1.0 in /Library/Frameworks/Python.framework/Versions/3.13/lib/python3.13/site-packages (from flask-migrate) (3.1.1)\n",
      "Collecting alembic>=1.9.0 (from flask-migrate)\n",
      "  Using cached alembic-1.15.2-py3-none-any.whl.metadata (7.3 kB)\n",
      "Requirement already satisfied: SQLAlchemy>=1.4.0 in /Library/Frameworks/Python.framework/Versions/3.13/lib/python3.13/site-packages (from alembic>=1.9.0->flask-migrate) (2.0.40)\n",
      "Collecting Mako (from alembic>=1.9.0->flask-migrate)\n",
      "  Using cached mako-1.3.10-py3-none-any.whl.metadata (2.9 kB)\n",
      "Requirement already satisfied: typing-extensions>=4.12 in /Library/Frameworks/Python.framework/Versions/3.13/lib/python3.13/site-packages (from alembic>=1.9.0->flask-migrate) (4.13.2)\n",
      "Requirement already satisfied: Werkzeug>=3.0.0 in /Library/Frameworks/Python.framework/Versions/3.13/lib/python3.13/site-packages (from Flask>=0.9->flask-migrate) (3.0.6)\n",
      "Requirement already satisfied: Jinja2>=3.1.2 in /Library/Frameworks/Python.framework/Versions/3.13/lib/python3.13/site-packages (from Flask>=0.9->flask-migrate) (3.1.4)\n",
      "Requirement already satisfied: itsdangerous>=2.1.2 in /Library/Frameworks/Python.framework/Versions/3.13/lib/python3.13/site-packages (from Flask>=0.9->flask-migrate) (2.2.0)\n",
      "Requirement already satisfied: click>=8.1.3 in /Library/Frameworks/Python.framework/Versions/3.13/lib/python3.13/site-packages (from Flask>=0.9->flask-migrate) (8.1.8)\n",
      "Requirement already satisfied: blinker>=1.6.2 in /Library/Frameworks/Python.framework/Versions/3.13/lib/python3.13/site-packages (from Flask>=0.9->flask-migrate) (1.9.0)\n",
      "Requirement already satisfied: MarkupSafe>=2.0 in /Library/Frameworks/Python.framework/Versions/3.13/lib/python3.13/site-packages (from Jinja2>=3.1.2->Flask>=0.9->flask-migrate) (3.0.2)\n",
      "Using cached Flask_Migrate-4.1.0-py3-none-any.whl (21 kB)\n",
      "Using cached alembic-1.15.2-py3-none-any.whl (231 kB)\n",
      "Using cached mako-1.3.10-py3-none-any.whl (78 kB)\n",
      "Installing collected packages: Mako, alembic, flask-migrate\n",
      "Successfully installed Mako-1.3.10 alembic-1.15.2 flask-migrate-4.1.0\n",
      "\n",
      "\u001b[1m[\u001b[0m\u001b[34;49mnotice\u001b[0m\u001b[1;39;49m]\u001b[0m\u001b[39;49m A new release of pip is available: \u001b[0m\u001b[31;49m24.2\u001b[0m\u001b[39;49m -> \u001b[0m\u001b[32;49m25.1.1\u001b[0m\n",
      "\u001b[1m[\u001b[0m\u001b[34;49mnotice\u001b[0m\u001b[1;39;49m]\u001b[0m\u001b[39;49m To update, run: \u001b[0m\u001b[32;49mpython3.13 -m pip install --upgrade pip\u001b[0m\n"
     ]
    }
   ],
   "source": [
    "!pip3 install flask-migrate\n"
   ]
  },
  {
   "cell_type": "code",
   "execution_count": 5,
   "id": "9fa7920a-6114-4599-9033-653b486c548d",
   "metadata": {},
   "outputs": [],
   "source": [
    "import sys\n",
    "import os\n",
    "\n",
    "# Path to your app root so imports work\n",
    "sys.path.append(os.path.abspath('.'))\n",
    "\n",
    "from app.extensions import db\n",
    "from app.core.models import EventTeamRequirement, Event\n",
    "\n"
   ]
  },
  {
   "cell_type": "code",
   "execution_count": 6,
   "id": "a46cf827-37d1-48a8-a2c1-c3f92cedcaa9",
   "metadata": {},
   "outputs": [],
   "source": [
    "from app import create_app\n",
    "app = create_app()\n",
    "\n",
    "# Set up the app context for DB access\n",
    "app.app_context().push()\n"
   ]
  },
  {
   "cell_type": "code",
   "execution_count": 7,
   "id": "f25b7a23-95ec-4d40-b297-6537b2dd1227",
   "metadata": {},
   "outputs": [
    {
     "data": {
      "text/plain": [
       "32"
      ]
     },
     "execution_count": 7,
     "metadata": {},
     "output_type": "execute_result"
    }
   ],
   "source": [
    "db.session.query(EventTeamRequirement).count()\n"
   ]
  },
  {
   "cell_type": "code",
   "execution_count": 8,
   "id": "d020225a-6b01-45e5-8897-35fe6db6485f",
   "metadata": {},
   "outputs": [
    {
     "name": "stdout",
     "output_type": "stream",
     "text": [
      "2: e2 on 2025-05-10\n",
      "1: u on 2025-05-10\n"
     ]
    }
   ],
   "source": [
    "for e in db.session.query(Event).order_by(Event.date.desc()).limit(5):\n",
    "    print(f\"{e.id}: {e.name} on {e.date.date()}\")\n"
   ]
  },
  {
   "cell_type": "code",
   "execution_count": null,
   "id": "3143cbdf-c8ef-42e8-9ab9-79694fd42603",
   "metadata": {},
   "outputs": [],
   "source": []
  }
 ],
 "metadata": {
  "kernelspec": {
   "display_name": "Python 3 (ipykernel)",
   "language": "python",
   "name": "python3"
  },
  "language_info": {
   "codemirror_mode": {
    "name": "ipython",
    "version": 3
   },
   "file_extension": ".py",
   "mimetype": "text/x-python",
   "name": "python",
   "nbconvert_exporter": "python",
   "pygments_lexer": "ipython3",
   "version": "3.13.0"
  }
 },
 "nbformat": 4,
 "nbformat_minor": 5
}
